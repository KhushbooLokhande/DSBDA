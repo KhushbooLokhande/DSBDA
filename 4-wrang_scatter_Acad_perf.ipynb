{
 "cells": [
  {
   "cell_type": "markdown",
   "id": "585477db-5d90-4b2a-8947-5c5fb7d45110",
   "metadata": {},
   "source": [
    "# PRACTICAL NO. 4\n",
    "# DATA WRANGLING II"
   ]
  },
  {
   "cell_type": "markdown",
   "id": "d397b0ac-7231-4498-a86e-cbc34c33d555",
   "metadata": {},
   "source": [
    "Operations using Python..(e.g., Academic_Performance.csv)\n",
    "1. Scan all variables for missing values and inconsistencies. If there are\n",
    "missing values and/or inconsistencies, use any of the suitable techniques to\n",
    "deal with them(using median and 0).Apply for single column and whole\n",
    "dataset.\n",
    "2. Scan all numeric variables for outliers. If there are outliers,any of the\n",
    "suitable techniques to deal with them.(using IQR)\n",
    "3. Display and Remove the outliers show q1 and q3\n",
    "4. Apply aggregation function (max,avg). The purpose of this\n",
    "transformation should be one of the following reasons: to change the scale\n",
    "for better understanding of the variable, to convert a non-linear relation into\n",
    "a linear one, or to decrease the skewness and convert the distribution into a\n",
    "normal distribution. Reason and document your approach properly.\n",
    "5. Draw Scatter plot"
   ]
  },
  {
   "cell_type": "markdown",
   "id": "86554e5b-ee0b-48f8-b4b3-0b652300d90c",
   "metadata": {},
   "source": [
    "# **1**"
   ]
  },
  {
   "cell_type": "code",
   "execution_count": 1,
   "id": "16178d47-51cc-4fb4-9632-4cb190e8cdca",
   "metadata": {},
   "outputs": [],
   "source": [
    "import pandas as pd\n",
    "import matplotlib.pyplot as plt"
   ]
  },
  {
   "cell_type": "code",
   "execution_count": 2,
   "id": "eb5d546d-5308-460b-a22f-5896807efae5",
   "metadata": {},
   "outputs": [],
   "source": [
    "df = pd.read_csv('datasets/AcademicPerformance_New.csv')"
   ]
  },
  {
   "cell_type": "code",
   "execution_count": 3,
   "id": "d80cb75e-b593-4bc0-8dce-99cb0b89a728",
   "metadata": {},
   "outputs": [
    {
     "data": {
      "text/html": [
       "<div>\n",
       "<style scoped>\n",
       "    .dataframe tbody tr th:only-of-type {\n",
       "        vertical-align: middle;\n",
       "    }\n",
       "\n",
       "    .dataframe tbody tr th {\n",
       "        vertical-align: top;\n",
       "    }\n",
       "\n",
       "    .dataframe thead th {\n",
       "        text-align: right;\n",
       "    }\n",
       "</style>\n",
       "<table border=\"1\" class=\"dataframe\">\n",
       "  <thead>\n",
       "    <tr style=\"text-align: right;\">\n",
       "      <th></th>\n",
       "      <th>Roll No</th>\n",
       "      <th>NationalITy</th>\n",
       "      <th>WT</th>\n",
       "      <th>DSBDA</th>\n",
       "      <th>AI</th>\n",
       "      <th>Average</th>\n",
       "      <th>Grade</th>\n",
       "      <th>PG</th>\n",
       "    </tr>\n",
       "  </thead>\n",
       "  <tbody>\n",
       "    <tr>\n",
       "      <th>0</th>\n",
       "      <td>1.0</td>\n",
       "      <td>India</td>\n",
       "      <td>72.0</td>\n",
       "      <td>72.0</td>\n",
       "      <td>74.0</td>\n",
       "      <td>72.666667</td>\n",
       "      <td>C</td>\n",
       "      <td>Yes</td>\n",
       "    </tr>\n",
       "    <tr>\n",
       "      <th>1</th>\n",
       "      <td>2.0</td>\n",
       "      <td>Japan</td>\n",
       "      <td>69.0</td>\n",
       "      <td>90.0</td>\n",
       "      <td>NaN</td>\n",
       "      <td>53.000000</td>\n",
       "      <td>B</td>\n",
       "      <td>No</td>\n",
       "    </tr>\n",
       "    <tr>\n",
       "      <th>2</th>\n",
       "      <td>NaN</td>\n",
       "      <td>NaN</td>\n",
       "      <td>NaN</td>\n",
       "      <td>NaN</td>\n",
       "      <td>NaN</td>\n",
       "      <td>NaN</td>\n",
       "      <td>NaN</td>\n",
       "      <td>NaN</td>\n",
       "    </tr>\n",
       "    <tr>\n",
       "      <th>3</th>\n",
       "      <td>4.0</td>\n",
       "      <td>China</td>\n",
       "      <td>47.0</td>\n",
       "      <td>NaN</td>\n",
       "      <td>44.0</td>\n",
       "      <td>30.333333</td>\n",
       "      <td>D</td>\n",
       "      <td>Yes</td>\n",
       "    </tr>\n",
       "    <tr>\n",
       "      <th>4</th>\n",
       "      <td>5.0</td>\n",
       "      <td>India</td>\n",
       "      <td>76.0</td>\n",
       "      <td>78.0</td>\n",
       "      <td>NaN</td>\n",
       "      <td>51.333333</td>\n",
       "      <td>C</td>\n",
       "      <td>No</td>\n",
       "    </tr>\n",
       "  </tbody>\n",
       "</table>\n",
       "</div>"
      ],
      "text/plain": [
       "   Roll No NationalITy    WT  DSBDA    AI    Average Grade   PG\n",
       "0      1.0       India  72.0   72.0  74.0  72.666667     C  Yes\n",
       "1      2.0       Japan  69.0   90.0   NaN  53.000000     B   No\n",
       "2      NaN         NaN   NaN    NaN   NaN        NaN   NaN  NaN\n",
       "3      4.0       China  47.0    NaN  44.0  30.333333     D  Yes\n",
       "4      5.0       India  76.0   78.0   NaN  51.333333     C   No"
      ]
     },
     "execution_count": 3,
     "metadata": {},
     "output_type": "execute_result"
    }
   ],
   "source": [
    "df.head()"
   ]
  },
  {
   "cell_type": "code",
   "execution_count": 4,
   "id": "4cfeda75-661d-4a48-83b3-747dcbe95c09",
   "metadata": {},
   "outputs": [
    {
     "name": "stdout",
     "output_type": "stream",
     "text": [
      "<class 'pandas.core.frame.DataFrame'>\n",
      "RangeIndex: 99 entries, 0 to 98\n",
      "Data columns (total 8 columns):\n",
      " #   Column       Non-Null Count  Dtype  \n",
      "---  ------       --------------  -----  \n",
      " 0   Roll No      98 non-null     float64\n",
      " 1   NationalITy  98 non-null     object \n",
      " 2   WT           91 non-null     float64\n",
      " 3   DSBDA        95 non-null     float64\n",
      " 4   AI           89 non-null     float64\n",
      " 5   Average      98 non-null     float64\n",
      " 6   Grade        98 non-null     object \n",
      " 7   PG           98 non-null     object \n",
      "dtypes: float64(5), object(3)\n",
      "memory usage: 6.3+ KB\n"
     ]
    }
   ],
   "source": [
    "df.info()"
   ]
  },
  {
   "cell_type": "code",
   "execution_count": 5,
   "id": "8ddbce5e-9d60-4550-b6bf-82b3bcfa8d46",
   "metadata": {},
   "outputs": [
    {
     "name": "stderr",
     "output_type": "stream",
     "text": [
      "C:\\Users\\ganes\\AppData\\Local\\Temp\\ipykernel_13040\\709877744.py:1: FutureWarning: A value is trying to be set on a copy of a DataFrame or Series through chained assignment using an inplace method.\n",
      "The behavior will change in pandas 3.0. This inplace method will never work because the intermediate object on which we are setting values always behaves as a copy.\n",
      "\n",
      "For example, when doing 'df[col].method(value, inplace=True)', try using 'df.method({col: value}, inplace=True)' or df[col] = df[col].method(value) instead, to perform the operation inplace on the original object.\n",
      "\n",
      "\n",
      "  df['WT'].fillna(df['WT'].mean(), inplace=True)\n",
      "C:\\Users\\ganes\\AppData\\Local\\Temp\\ipykernel_13040\\709877744.py:2: FutureWarning: A value is trying to be set on a copy of a DataFrame or Series through chained assignment using an inplace method.\n",
      "The behavior will change in pandas 3.0. This inplace method will never work because the intermediate object on which we are setting values always behaves as a copy.\n",
      "\n",
      "For example, when doing 'df[col].method(value, inplace=True)', try using 'df.method({col: value}, inplace=True)' or df[col] = df[col].method(value) instead, to perform the operation inplace on the original object.\n",
      "\n",
      "\n",
      "  df['DSBDA'].fillna(df['DSBDA'].mean(), inplace=True)\n",
      "C:\\Users\\ganes\\AppData\\Local\\Temp\\ipykernel_13040\\709877744.py:3: FutureWarning: A value is trying to be set on a copy of a DataFrame or Series through chained assignment using an inplace method.\n",
      "The behavior will change in pandas 3.0. This inplace method will never work because the intermediate object on which we are setting values always behaves as a copy.\n",
      "\n",
      "For example, when doing 'df[col].method(value, inplace=True)', try using 'df.method({col: value}, inplace=True)' or df[col] = df[col].method(value) instead, to perform the operation inplace on the original object.\n",
      "\n",
      "\n",
      "  df['AI'].fillna(df['DSBDA'].mean(), inplace=True)\n"
     ]
    }
   ],
   "source": [
    "df['WT'].fillna(df['WT'].mean(), inplace=True)\n",
    "df['DSBDA'].fillna(df['DSBDA'].mean(), inplace=True)\n",
    "df['AI'].fillna(df['DSBDA'].mean(), inplace=True)"
   ]
  },
  {
   "cell_type": "code",
   "execution_count": 6,
   "id": "806b1f37-50bc-4f64-9525-feadf1fdb712",
   "metadata": {},
   "outputs": [],
   "source": [
    "df.dropna(subset=['Roll No'],inplace=True)"
   ]
  },
  {
   "cell_type": "code",
   "execution_count": 7,
   "id": "673ec9d2-d4e3-45bd-baec-362673bd3691",
   "metadata": {},
   "outputs": [
    {
     "name": "stdout",
     "output_type": "stream",
     "text": [
      "<class 'pandas.core.frame.DataFrame'>\n",
      "Index: 98 entries, 0 to 98\n",
      "Data columns (total 8 columns):\n",
      " #   Column       Non-Null Count  Dtype  \n",
      "---  ------       --------------  -----  \n",
      " 0   Roll No      98 non-null     float64\n",
      " 1   NationalITy  98 non-null     object \n",
      " 2   WT           98 non-null     float64\n",
      " 3   DSBDA        98 non-null     float64\n",
      " 4   AI           98 non-null     float64\n",
      " 5   Average      98 non-null     float64\n",
      " 6   Grade        98 non-null     object \n",
      " 7   PG           98 non-null     object \n",
      "dtypes: float64(5), object(3)\n",
      "memory usage: 6.9+ KB\n"
     ]
    }
   ],
   "source": [
    "df.info()"
   ]
  },
  {
   "cell_type": "code",
   "execution_count": 8,
   "id": "f83635fa-7749-42ae-be51-1bce45014068",
   "metadata": {},
   "outputs": [
    {
     "data": {
      "text/plain": [
       "0"
      ]
     },
     "execution_count": 8,
     "metadata": {},
     "output_type": "execute_result"
    }
   ],
   "source": [
    "df.duplicated().sum()"
   ]
  },
  {
   "cell_type": "code",
   "execution_count": 9,
   "id": "53f0b913-40c1-416f-830e-5e57764b7fd2",
   "metadata": {},
   "outputs": [
    {
     "data": {
      "text/plain": [
       "0      1\n",
       "1      2\n",
       "3      4\n",
       "4      5\n",
       "5      6\n",
       "      ..\n",
       "94    95\n",
       "95    96\n",
       "96    97\n",
       "97    98\n",
       "98    99\n",
       "Name: Roll No, Length: 98, dtype: int32"
      ]
     },
     "execution_count": 9,
     "metadata": {},
     "output_type": "execute_result"
    }
   ],
   "source": [
    "df['Roll No'].astype(int)"
   ]
  },
  {
   "cell_type": "markdown",
   "id": "e123bd20-78e6-4d33-ae2b-791b1c459667",
   "metadata": {},
   "source": [
    "# **2 and 3** "
   ]
  },
  {
   "cell_type": "code",
   "execution_count": 11,
   "id": "5f9535e9-af1e-459c-929b-841d4a26fccd",
   "metadata": {},
   "outputs": [
    {
     "data": {
      "text/html": [
       "<div>\n",
       "<style scoped>\n",
       "    .dataframe tbody tr th:only-of-type {\n",
       "        vertical-align: middle;\n",
       "    }\n",
       "\n",
       "    .dataframe tbody tr th {\n",
       "        vertical-align: top;\n",
       "    }\n",
       "\n",
       "    .dataframe thead th {\n",
       "        text-align: right;\n",
       "    }\n",
       "</style>\n",
       "<table border=\"1\" class=\"dataframe\">\n",
       "  <thead>\n",
       "    <tr style=\"text-align: right;\">\n",
       "      <th></th>\n",
       "      <th>Roll No</th>\n",
       "      <th>NationalITy</th>\n",
       "      <th>WT</th>\n",
       "      <th>DSBDA</th>\n",
       "      <th>AI</th>\n",
       "      <th>Average</th>\n",
       "      <th>Grade</th>\n",
       "      <th>PG</th>\n",
       "    </tr>\n",
       "  </thead>\n",
       "  <tbody>\n",
       "    <tr>\n",
       "      <th>17</th>\n",
       "      <td>18.0</td>\n",
       "      <td>Rassia</td>\n",
       "      <td>18.0</td>\n",
       "      <td>32.0</td>\n",
       "      <td>28.0</td>\n",
       "      <td>26.0</td>\n",
       "      <td>D</td>\n",
       "      <td>Yes</td>\n",
       "    </tr>\n",
       "  </tbody>\n",
       "</table>\n",
       "</div>"
      ],
      "text/plain": [
       "    Roll No NationalITy    WT  DSBDA    AI  Average Grade   PG\n",
       "17     18.0      Rassia  18.0   32.0  28.0     26.0     D  Yes"
      ]
     },
     "execution_count": 11,
     "metadata": {},
     "output_type": "execute_result"
    }
   ],
   "source": [
    "Q1 = df['WT'].quantile(0.25)\n",
    "Q3 = df['WT'].quantile(0.75)\n",
    "IQR = Q3 - Q1\n",
    "lower = Q1 - 1.5 * IQR\n",
    "upper = Q3 + 1.5 * IQR\n",
    "df[((df['WT']<lower) | (df['WT']>upper))]"
   ]
  },
  {
   "cell_type": "code",
   "execution_count": 12,
   "id": "66fc2d3b-f1ae-4012-a3d0-461bfc281d25",
   "metadata": {},
   "outputs": [],
   "source": [
    "df = df[~((df['WT']<lower) | (df['WT']>upper))]"
   ]
  },
  {
   "cell_type": "code",
   "execution_count": 13,
   "id": "4956c937-6e33-4ae6-b6ff-30c15095e111",
   "metadata": {},
   "outputs": [
    {
     "data": {
      "text/html": [
       "<div>\n",
       "<style scoped>\n",
       "    .dataframe tbody tr th:only-of-type {\n",
       "        vertical-align: middle;\n",
       "    }\n",
       "\n",
       "    .dataframe tbody tr th {\n",
       "        vertical-align: top;\n",
       "    }\n",
       "\n",
       "    .dataframe thead th {\n",
       "        text-align: right;\n",
       "    }\n",
       "</style>\n",
       "<table border=\"1\" class=\"dataframe\">\n",
       "  <thead>\n",
       "    <tr style=\"text-align: right;\">\n",
       "      <th></th>\n",
       "      <th>Roll No</th>\n",
       "      <th>NationalITy</th>\n",
       "      <th>WT</th>\n",
       "      <th>DSBDA</th>\n",
       "      <th>AI</th>\n",
       "      <th>Average</th>\n",
       "      <th>Grade</th>\n",
       "      <th>PG</th>\n",
       "    </tr>\n",
       "  </thead>\n",
       "  <tbody>\n",
       "    <tr>\n",
       "      <th>76</th>\n",
       "      <td>77.0</td>\n",
       "      <td>USA</td>\n",
       "      <td>30.0</td>\n",
       "      <td>26.0</td>\n",
       "      <td>22.0</td>\n",
       "      <td>26.0</td>\n",
       "      <td>D</td>\n",
       "      <td>Yes</td>\n",
       "    </tr>\n",
       "  </tbody>\n",
       "</table>\n",
       "</div>"
      ],
      "text/plain": [
       "    Roll No NationalITy    WT  DSBDA    AI  Average Grade   PG\n",
       "76     77.0         USA  30.0   26.0  22.0     26.0     D  Yes"
      ]
     },
     "execution_count": 13,
     "metadata": {},
     "output_type": "execute_result"
    }
   ],
   "source": [
    "Q1 = df['DSBDA'].quantile(0.25)\n",
    "Q3 = df['DSBDA'].quantile(0.75)\n",
    "IQR = Q3 - Q1\n",
    "lower = Q1 - 1.5 * IQR\n",
    "upper = Q3 + 1.5 * IQR\n",
    "df[((df['DSBDA']<lower) | (df['DSBDA']>upper))]"
   ]
  },
  {
   "cell_type": "code",
   "execution_count": 14,
   "id": "521595d7-81bf-4675-9349-6b571f2930b9",
   "metadata": {},
   "outputs": [],
   "source": [
    "df = df[~((df['DSBDA']<lower) | (df['DSBDA']>upper))]"
   ]
  },
  {
   "cell_type": "code",
   "execution_count": 15,
   "id": "e239f884-0d3c-4d04-8728-14a1084bf378",
   "metadata": {},
   "outputs": [
    {
     "data": {
      "text/html": [
       "<div>\n",
       "<style scoped>\n",
       "    .dataframe tbody tr th:only-of-type {\n",
       "        vertical-align: middle;\n",
       "    }\n",
       "\n",
       "    .dataframe tbody tr th {\n",
       "        vertical-align: top;\n",
       "    }\n",
       "\n",
       "    .dataframe thead th {\n",
       "        text-align: right;\n",
       "    }\n",
       "</style>\n",
       "<table border=\"1\" class=\"dataframe\">\n",
       "  <thead>\n",
       "    <tr style=\"text-align: right;\">\n",
       "      <th></th>\n",
       "      <th>Roll No</th>\n",
       "      <th>NationalITy</th>\n",
       "      <th>WT</th>\n",
       "      <th>DSBDA</th>\n",
       "      <th>AI</th>\n",
       "      <th>Average</th>\n",
       "      <th>Grade</th>\n",
       "      <th>PG</th>\n",
       "    </tr>\n",
       "  </thead>\n",
       "  <tbody>\n",
       "    <tr>\n",
       "      <th>59</th>\n",
       "      <td>60.0</td>\n",
       "      <td>Rassia</td>\n",
       "      <td>70.0</td>\n",
       "      <td>50.0</td>\n",
       "      <td>20.0</td>\n",
       "      <td>46.666667</td>\n",
       "      <td>D</td>\n",
       "      <td>Yes</td>\n",
       "    </tr>\n",
       "  </tbody>\n",
       "</table>\n",
       "</div>"
      ],
      "text/plain": [
       "    Roll No NationalITy    WT  DSBDA    AI    Average Grade   PG\n",
       "59     60.0      Rassia  70.0   50.0  20.0  46.666667     D  Yes"
      ]
     },
     "execution_count": 15,
     "metadata": {},
     "output_type": "execute_result"
    }
   ],
   "source": [
    "Q1 = df['AI'].quantile(0.25)\n",
    "Q3 = df['AI'].quantile(0.75)\n",
    "IQR = Q3 - Q1\n",
    "lower = Q1 - 1.5 * IQR\n",
    "upper = Q3 + 1.5 * IQR\n",
    "df[((df['AI']<lower) | (df['AI']>upper))]"
   ]
  },
  {
   "cell_type": "code",
   "execution_count": 17,
   "id": "b43b54a7-267d-4797-b1f8-1ef0badf44e8",
   "metadata": {},
   "outputs": [],
   "source": [
    "df = df[~((df['AI']<lower) | (df['AI']>upper))]"
   ]
  },
  {
   "cell_type": "markdown",
   "id": "76c305fa-c975-416d-8f19-093e00875b21",
   "metadata": {},
   "source": [
    "# **4 and 5**"
   ]
  },
  {
   "cell_type": "markdown",
   "id": "59018e37-7220-49c4-82e8-16a27be2c747",
   "metadata": {},
   "source": [
    "# Lets do this for AI and DBMS"
   ]
  },
  {
   "cell_type": "code",
   "execution_count": 18,
   "id": "ce2e45ed-1468-42c8-9911-6026fdedf845",
   "metadata": {},
   "outputs": [
    {
     "data": {
      "text/plain": [
       "(-0.29290450930791145, -0.2369463400818316)"
      ]
     },
     "execution_count": 18,
     "metadata": {},
     "output_type": "execute_result"
    }
   ],
   "source": [
    "df['AI'].skew(), df['DSBDA'].skew()"
   ]
  },
  {
   "cell_type": "code",
   "execution_count": 19,
   "id": "053e2af6-a6e9-410b-ac60-1fe45323ea37",
   "metadata": {},
   "outputs": [
    {
     "data": {
      "text/plain": [
       "(92.0, 63.693407202216065)"
      ]
     },
     "execution_count": 19,
     "metadata": {},
     "output_type": "execute_result"
    }
   ],
   "source": [
    "df['AI'].max(), df['AI'].mean()"
   ]
  },
  {
   "cell_type": "code",
   "execution_count": 20,
   "id": "4c30d36a-319a-4610-a215-3141fc7dd5e9",
   "metadata": {},
   "outputs": [
    {
     "data": {
      "text/plain": [
       "(95.0, 65.55745152354571)"
      ]
     },
     "execution_count": 20,
     "metadata": {},
     "output_type": "execute_result"
    }
   ],
   "source": [
    "df['DSBDA'].max(), df['DSBDA'].mean()"
   ]
  },
  {
   "cell_type": "code",
   "execution_count": 21,
   "id": "45174c95-3525-4e5c-8c77-87cd596a8299",
   "metadata": {},
   "outputs": [
    {
     "data": {
      "text/plain": [
       "<matplotlib.collections.PathCollection at 0x1d12539f050>"
      ]
     },
     "execution_count": 21,
     "metadata": {},
     "output_type": "execute_result"
    },
    {
     "data": {
      "image/png": "[encoded data removed]",
      "text/plain": [
       "<Figure size 640x480 with 1 Axes>"
      ]
     },
     "metadata": {},
     "output_type": "display_data"
    }
   ],
   "source": [
    "plt.scatter(x=df['AI'], y=df['DSBDA'])"
   ]
  },
  {
   "cell_type": "code",
   "execution_count": null,
   "id": "2f90085c-78c4-482f-b0f7-45c78240bcd1",
   "metadata": {},
   "outputs": [],
   "source": []
  }
 ],
 "metadata": {
  "kernelspec": {
   "display_name": "Python 3 (ipykernel)",
   "language": "python",
   "name": "python3"
  },
  "language_info": {
   "codemirror_mode": {
    "name": "ipython",
    "version": 3
   },
   "file_extension": ".py",
   "mimetype": "text/x-python",
   "name": "python",
   "nbconvert_exporter": "python",
   "pygments_lexer": "ipython3",
   "version": "3.12.3"
  }
 },
 "nbformat": 4,
 "nbformat_minor": 5
}
